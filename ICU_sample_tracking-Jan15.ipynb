{
 "cells": [
  {
   "cell_type": "code",
   "execution_count": 67,
   "metadata": {
    "collapsed": false
   },
   "outputs": [],
   "source": [
    "%matplotlib inline\n",
    "import matplotlib\n",
    "import datetime\n",
    "import numpy as np\n",
    "import matplotlib\n",
    "import matplotlib.pyplot as plt\n",
    "from matplotlib import dates\n",
    "from scipy.stats import gaussian_kde\n",
    "import operator\n",
    "import pylab\n",
    "import pandas as pd\n",
    "from html import HTML\n",
    "from itertools import groupby\n",
    "from operator import itemgetter\n",
    "import itertools\n",
    "from collections import Counter"
   ]
  },
  {
   "cell_type": "code",
   "execution_count": 68,
   "metadata": {
    "collapsed": true
   },
   "outputs": [],
   "source": [
    "admit_file = \"/Users/elizabethwebster/Desktop/daily_cdiff_reporting/all_icu_tracking/icuadmit.csv\"\n",
    "collection_file = \"/Users/elizabethwebster/Desktop/daily_cdiff_reporting/all_icu_tracking/collection.csv\""
   ]
  },
  {
   "cell_type": "code",
   "execution_count": 69,
   "metadata": {
    "collapsed": true
   },
   "outputs": [],
   "source": [
    "def convert_to_python_dates (our_date, delim):\n",
    "    year,month,day = map(int, our_date.split(delim))\n",
    "    if year < 1000:\n",
    "        year+=2000 # corrects for the year been just two digits\n",
    "    return datetime.date(year, month, day)\n"
   ]
  },
  {
   "cell_type": "code",
   "execution_count": 70,
   "metadata": {
    "collapsed": true
   },
   "outputs": [],
   "source": [
    "def consecutive(a, b):\n",
    "    return abs((a - b).days) == 1"
   ]
  },
  {
   "cell_type": "code",
   "execution_count": 71,
   "metadata": {
    "collapsed": false,
    "scrolled": false
   },
   "outputs": [],
   "source": [
    "def set_up_dict(admit_file):\n",
    "    '''\n",
    "    Returns:\n",
    "    sample_dict = key =(person,admit_date,room) -> {}\n",
    "    exit_dict = key = (person, room) -> exit dates\n",
    "    '''\n",
    "    with open(admit_file) as f:\n",
    "        headerline = f.readline()\n",
    "        temp_dict={} # key=(patient_id, room) -> list of dates patient in room\n",
    "        s_dict={} #key =(person,admit_date,room) -> {} \n",
    "        e_dict={} #exit dictionary: key = (patient,room) -> exit dates\n",
    "        for l in f:\n",
    "            ll = l.strip().split(\",\")\n",
    "            pid,tmp,room,tmp2 = ll[0:4]\n",
    "            report_date = convert_to_python_dates(tmp2,\"-\")\n",
    "            temp_dict.setdefault((pid,room), set()).add(convert_to_python_dates(tmp2,\"-\"))\n",
    "        for key in temp_dict:\n",
    "            sdates = sorted(temp_dict[key])\n",
    "            if len(sdates) == 1: #person only in ICU for a day\n",
    "                s_dict[key[0],sdates[0],key[1]]={}\n",
    "                e_dict.setdefault((key[0],key[1]), set()).add(sdates[0])\n",
    "            else: #person in ICU for more than one day\n",
    "                admit_date = min(sdates)\n",
    "                exit_date = max(sdates)\n",
    "                s_dict[key[0],admit_date,key[1]]={}\n",
    "                e_dict.setdefault((key[0],key[1]), set()).add(exit_date)\n",
    "                for i in xrange(1, len(sdates)):\n",
    "                    if sdates[i] - sdates[i-1] > datetime.timedelta(1):\n",
    "                        s_dict[key[0],sdates[i],key[1]]={}\n",
    "                        e_dict.setdefault((key[0],key[1]), set()).add(sdates[i-1])\n",
    "                          \n",
    "        return s_dict, e_dict"
   ]
  },
  {
   "cell_type": "code",
   "execution_count": 72,
   "metadata": {
    "collapsed": false
   },
   "outputs": [],
   "source": [
    "sample_dict_empty, all_exit_dict = set_up_dict(admit_file)\n"
   ]
  },
  {
   "cell_type": "code",
   "execution_count": 73,
   "metadata": {
    "collapsed": false
   },
   "outputs": [],
   "source": [
    "def make_full_exit_dict(s_dict_empty,exit_dict):\n",
    "    '''\n",
    "    Takes in the dictionaries of admit dates and exit dates\n",
    "    returns dictionary: key = (person, admit_date, room) -> exit date\n",
    "    '''\n",
    "    f_exit_dict = {}\n",
    "    for key in s_dict_empty:\n",
    "        if (key[0],key[2]) in exit_dict:\n",
    "            pid = key[0]\n",
    "            ad = key[1]\n",
    "            room = key[2]\n",
    "            if len(exit_dict[key[0],key[2]]) == 1:\n",
    "                f_exit_dict[key[0],key[1],key[2]] = exit_dict[key[0],key[2]] #One stay in the icu\n",
    "            else:\n",
    "                admit_dates = sorted([item[1] for item in s_dict_empty if item[0]==pid and item[2] == room])\n",
    "                discharge_dates = sorted(exit_dict[(key[0],key[2])])\n",
    "                for i in xrange(len(discharge_dates)-1):\n",
    "                    if admit_dates[i] <= discharge_dates[i]: #and admit_dates[i] > discharge_dates[i]:\n",
    "                        f_exit_dict[pid,ad,room] = discharge_dates[i]\n",
    "                    else:\n",
    "                        print \"other\"\n",
    "                    \n",
    "    return f_exit_dict"
   ]
  },
  {
   "cell_type": "code",
   "execution_count": 74,
   "metadata": {
    "collapsed": false
   },
   "outputs": [],
   "source": [
    "full_exit_dict = make_full_exit_dict(sample_dict_empty,all_exit_dict)"
   ]
  },
  {
   "cell_type": "code",
   "execution_count": 75,
   "metadata": {
    "collapsed": false
   },
   "outputs": [],
   "source": [
    "def get_exit_date(pid,admit_date,icu):\n",
    "    '''\n",
    "    returns the exit date for an individual visit\n",
    "    '''\n",
    "    query = full_exit_dict[(pid,admit_date,icu)]\n",
    "    lq = list(query)\n",
    "    return lq"
   ]
  },
  {
   "cell_type": "code",
   "execution_count": 76,
   "metadata": {
    "collapsed": false
   },
   "outputs": [],
   "source": [
    "def get_sampling_dates(col_file):\n",
    "    '''\n",
    "    Adds in the sample collection information to give the following dictionary:\n",
    "    q_dict[(person,room)] = [(sample_date1,stool),(sample_date2,swab)...(sample_daten,stool)]\n",
    "\n",
    "    '''\n",
    "    q_dict={}\n",
    "    with open(col_file) as f:\n",
    "        headerline = f.readline()\n",
    "        for l in f:\n",
    "            ll = l.strip().split(\",\")\n",
    "            pid,icu,collection_date,tmp2,sample_type = ll[0:6]\n",
    "            if tmp2 == \"NULL\":\n",
    "                sampling_date = convert_to_python_dates(collection_date,\"-\") #Use collection date instead  \n",
    "                b = sampling_date,sample_type\n",
    "            else:\n",
    "                sampling_date = convert_to_python_dates(tmp2,\"-\") #Use actual sampling date\n",
    "                b = sampling_date,sample_type\n",
    "            q_dict.setdefault((pid,icu), set()).add(b)\n",
    "    return q_dict"
   ]
  },
  {
   "cell_type": "code",
   "execution_count": 77,
   "metadata": {
    "collapsed": false
   },
   "outputs": [],
   "source": [
    "sampling_dates = get_sampling_dates(collection_file)"
   ]
  },
  {
   "cell_type": "code",
   "execution_count": 78,
   "metadata": {
    "collapsed": false
   },
   "outputs": [],
   "source": [
    "def date_cutoff(sde,cutoffs):\n",
    "    '''\n",
    "    cutoffs is a dictionary keyed on icu with values of the start dates\n",
    "    ex. \n",
    "    Returns dirctionary to only include individuals that were admitted to an ICU on or after a certain date\n",
    "    '''\n",
    "    new_dict = {}\n",
    "    for key in sde:\n",
    "            if key[2] in cutoffs:\n",
    "                start = cutoffs[key[2]]\n",
    "                if key[1] >= start:\n",
    "                    new_dict[key[0],key[1],key[2]] = {}\n",
    "    return new_dict     "
   ]
  },
  {
   "cell_type": "code",
   "execution_count": 79,
   "metadata": {
    "collapsed": false
   },
   "outputs": [],
   "source": [
    "cutoff_dates = {'SICU': datetime.date(2015,9,14), 'MICU': datetime.date(2015,12,1), 'NSIC': datetime.date(2015,11,17)}"
   ]
  },
  {
   "cell_type": "code",
   "execution_count": 80,
   "metadata": {
    "collapsed": false
   },
   "outputs": [],
   "source": [
    "new_empty_dict = date_cutoff(sample_dict_empty,cutoff_dates)"
   ]
  },
  {
   "cell_type": "code",
   "execution_count": 81,
   "metadata": {
    "collapsed": false,
    "scrolled": true
   },
   "outputs": [],
   "source": [
    "def make_full_dict(s_dates,samp_dict_empty):\n",
    "    '''\n",
    "    Concatenate the two dictionaries and make a full dictionary with all of the info\n",
    "    Inputs:\n",
    "    sampling_dates  = \n",
    "    sample_dict_empty = (person,admit_date,room) -> {}\n",
    "    Returns:\n",
    "    final_dic = (person,admit_date,room) -> [(sample_date1,stool),(sample_date2,swab)...(sample_daten,stool)]\n",
    "    '''\n",
    "    final_dict = {} \n",
    "    no_visit_samples = Counter()\n",
    "    pre_first_samples = Counter()\n",
    "    for key in s_dates:\n",
    "        visits = [entry for entry in samp_dict_empty if key[0] == entry[0] and key[1] == entry [2]]\n",
    "        visits.sort(lambda x,y: cmp(x[1], y[1]))\n",
    "        nvis = len(visits)\n",
    "        if nvis == 0: \n",
    "            no_visit_samples[key[0]] += 1\n",
    "            continue\n",
    "        for date in s_dates[key]: # check the dates at least 1 day before because of epic record lag\n",
    "            date_found = False\n",
    "            mod_date = date[0]+datetime.timedelta(1)\n",
    "            if mod_date >= visits[-1][1]:\n",
    "                final_dict.setdefault(visits[-1], set()).add(date)\n",
    "                date_found = True\n",
    "            for i in xrange(nvis-1): # going to add in a check for end of loop\n",
    "                if mod_date >= visits[i][1] and mod_date < visits[i+1][1]:\n",
    "                    final_dict.setdefault(visits[i],set()).add(date)\n",
    "                    date_found = True\n",
    "            if not date_found:        \n",
    "            #    print mod_date\n",
    "            #    print visits\n",
    "            #    print \"this sample doesn't exist between admits:\", date, key\n",
    "            #    print \"these are the visits corresponding\", visits\n",
    "                pre_first_samples[key[0]] += 1\n",
    "    #Get non sampled\n",
    "    non_sampled = []\n",
    "    for key in samp_dict_empty:\n",
    "        if key not in final_dict:\n",
    "            if (key[0],key[2]) in s_dates:\n",
    "                non_sampled.append(key[0])\n",
    "                final_dict[key] = s_dates[key[0],key[2]]\n",
    "            else: final_dict[key]=\"0\" #meaning non sampled\n",
    "   \n",
    "    #print \"patients with samples and no admits: \"\n",
    "    #print no_visit_samples\n",
    "    \n",
    "    no_samples = open(\"Samples_w_no_visits.txt\",'w')\n",
    "    for sample in no_visit_samples:\n",
    "        no_samples.write(sample)\n",
    "        no_samples.write('\\n')\n",
    "    no_samples.close()\n",
    "    \n",
    "    samples_before_fn = open(\"Samples_before_first_admit.txt\",'w')\n",
    "    for sample in pre_first_samples:\n",
    "        samples_before_fn.write(sample)\n",
    "        samples_before_fn.write('\\n')\n",
    "    samples_before_fn.close()\n",
    "    return final_dict\n",
    "    #print \"patients with samples before first admit: \"\n",
    "    #print pre_first_samples\n",
    "    #print \"patients with no samples\" #people that we just miss the first time -> for unknown reason, but they get added in\n",
    "    #print non_sampled\n",
    "    #return final_dict"
   ]
  },
  {
   "cell_type": "code",
   "execution_count": 82,
   "metadata": {
    "collapsed": false,
    "scrolled": false
   },
   "outputs": [],
   "source": [
    "sample_dict_full = make_full_dict(sampling_dates,new_empty_dict)"
   ]
  },
  {
   "cell_type": "code",
   "execution_count": 83,
   "metadata": {
    "collapsed": false
   },
   "outputs": [
    {
     "name": "stdout",
     "output_type": "stream",
     "text": [
      "('MICU', 'Both') 24\n",
      "('MICU', 'None') 46\n",
      "('MICU', 'Stools') 16\n",
      "('MICU', 'Swabs') 32\n",
      "('NSIC', 'Both') 11\n",
      "('NSIC', 'NULL') 2\n",
      "('NSIC', 'None') 128\n",
      "('NSIC', 'Stools') 18\n",
      "('NSIC', 'Swabs') 53\n",
      "('SICU', 'Both') 33\n",
      "('SICU', 'Deleted') 4\n",
      "('SICU', 'NULL') 4\n",
      "('SICU', 'None') 83\n",
      "('SICU', 'Stools') 57\n",
      "('SICU', 'Swabs') 91\n"
     ]
    }
   ],
   "source": [
    "sample_sets = Counter()\n",
    "for p_visit in sample_dict_full:\n",
    "    if sample_dict_full[p_visit] == '0':\n",
    "        sample_sets[(p_visit[-1], 'None')] += 1\n",
    "    else:\n",
    "        coll_types = set()\n",
    "        for coll in sample_dict_full[p_visit]:\n",
    "            coll_types.add(coll[1])\n",
    "        if 'Swabs' in coll_types and 'Stools' in coll_types:\n",
    "            sample_sets[(p_visit[-1], 'Both')] += 1\n",
    "        else:\n",
    "            for ctype in coll_types:\n",
    "                sample_sets[(p_visit[-1], ctype)] += 1\n",
    "keys = sample_sets.keys()\n",
    "keys.sort()\n",
    "for key in keys:\n",
    "    value = sample_sets[key]\n",
    "    print key, value"
   ]
  },
  {
   "cell_type": "code",
   "execution_count": 84,
   "metadata": {
    "collapsed": false
   },
   "outputs": [
    {
     "data": {
      "image/png": "[encoded data removed]",
      "text/plain": [
       "<matplotlib.figure.Figure at 0x10a627290>"
      ]
     },
     "metadata": {},
     "output_type": "display_data"
    }
   ],
   "source": [
    "import seaborn as sbn\n",
    "\n",
    "df = pd.DataFrame([\n",
    "    [col1[0],col1[1],col3] for col1, col3 in sample_sets.items() \n",
    "])\n",
    "df.columns = [\"ICU\",\"Sample Type\", \"Counts\"]\n",
    "\n",
    "a = df.to_html(index=False) \n",
    "table1 = open(\"table1.html\",'w')\n",
    "table1.write(a)\n",
    "\n",
    "# Draw a nested barplot to show survival for class and sex\n",
    "g = sbn.factorplot(x=\"ICU\", y=\"Counts\", hue=\"Sample Type\", data=df,\n",
    "                   size=6, kind=\"bar\", palette=\"muted\")\n",
    "\n",
    "g.despine(left=True)\n",
    "g.set_ylabels(\"Patient Counts\")\n",
    "\n",
    "\n",
    "g.fig.suptitle('Sampling Breakdown in the ICUs') # can also get the figure from plt.gcf()\n",
    "g.savefig(\"sampling_breakdown.png\")\n"
   ]
  },
  {
   "cell_type": "code",
   "execution_count": 85,
   "metadata": {
    "collapsed": false
   },
   "outputs": [],
   "source": [
    "def get_patients_sampled_within_x_days(s_dict_full,x,icu,ex_dict):\n",
    "    end_date = datetime.date.today()\n",
    "    current_dict = { key:value for key,value in s_dict_full.items() if key[2] == icu}\n",
    "    start_date = cutoff_dates[icu]\n",
    "    daterange = (end_date-start_date).days # days between first and last date\n",
    "    date_bins = map(lambda x: datetime.timedelta(x)+start_date, range(x,daterange,x))\n",
    "    total_patients   = []\n",
    "    sampled_patients = []\n",
    "    for bin_end_date in date_bins:\n",
    "        bin_start_date = bin_end_date-datetime.timedelta(x)\n",
    "        bsd = bin_start_date\n",
    "        bed = bin_end_date\n",
    "        pidsInDate = set()\n",
    "        for visit in current_dict:\n",
    "            if visit not in ex_dict:\n",
    "                print \"not in\"\n",
    "            else:\n",
    "                pid = visit[0]\n",
    "                exit_date_set =  full_exit_dict[visit]\n",
    "                admit_date = visit[1]\n",
    "                if type(exit_date_set) == set:\n",
    "                    exit_date = list(exit_date_set)[0]\n",
    "                else:\n",
    "                    exit_date = exit_date_set\n",
    "                if admit_date >= bsd and admit_date <= bed:\n",
    "                    pidsInDate.add(pid)\n",
    "                elif exit_date >= bsd and exit_date <= bed:\n",
    "                    pidsInDate.add(pid)\n",
    "                elif admit_date <= bsd and exit_date >= bed:\n",
    "                    pidsInDate.add(pid)\n",
    "        pidsCollected = set()\n",
    "        for pid in pidsInDate:\n",
    "            if (pid,icu) in sampling_dates:\n",
    "                pidCoDates = sampling_dates[(pid,icu)]\n",
    "                for codate in pidCoDates:\n",
    "                    date_of_sample = codate[0]\n",
    "                    if date_of_sample >= bsd and date_of_sample <= bed:\n",
    "                        pidsCollected.add(pid)\n",
    "                        break\n",
    "        total_patients.append(len(pidsInDate))\n",
    "        sampled_patients.append(len(pidsCollected))\n",
    "    \n",
    "    return total_patients, sampled_patients, date_bins        "
   ]
  },
  {
   "cell_type": "markdown",
   "metadata": {
    "collapsed": true
   },
   "source": [
    "\n",
    "### def get_mean_length_between_samples(collectionDates):"
   ]
  },
  {
   "cell_type": "code",
   "execution_count": 86,
   "metadata": {
    "collapsed": false
   },
   "outputs": [],
   "source": [
    "SICU_rates = get_patients_sampled_within_x_days(sample_dict_full,5, 'SICU', full_exit_dict)\n",
    "MICU_rates = get_patients_sampled_within_x_days(sample_dict_full,5, 'MICU', full_exit_dict)\n",
    "NSIC_rates = get_patients_sampled_within_x_days(sample_dict_full,5, 'NSIC', full_exit_dict)"
   ]
  },
  {
   "cell_type": "code",
   "execution_count": 87,
   "metadata": {
    "collapsed": false
   },
   "outputs": [],
   "source": [
    "SICU_ratio =  np.array(SICU_rates[1],dtype='float')/np.array(SICU_rates[0],dtype='float')\n",
    "MICU_ratio =  np.array(MICU_rates[1],dtype='float')/np.array(MICU_rates[0],dtype='float')\n",
    "NSIC_ratio =  np.array(NSIC_rates[1],dtype='float')/np.array(NSIC_rates[0],dtype='float')"
   ]
  },
  {
   "cell_type": "code",
   "execution_count": 95,
   "metadata": {
    "collapsed": false
   },
   "outputs": [],
   "source": [
    "rats=[]\n",
    "rats.append(SICU_ratio)\n",
    "rats.append(MICU_ratio)\n",
    "rats.append(NSIC_ratio)\n",
    "\n",
    "\n",
    "labels = [\"SICU\", \"MICU\", \"NSIC\"]\n",
    "plt.ylabel('Sampled Patients / Total Patients')\n",
    "plt.title('Ratio of Sampled vs. Total Patients for 5 day bins')\n",
    "plt.axis([0,13,0,1])\n",
    "\n",
    "for i in range(len(rats)):\n",
    "    if len(rats[i]) > 0:\n",
    "        plt.plot(rats[i],label=labels[i],alpha=0.5)\n",
    "        plt.legend(bbox_to_anchor=(1.05, 1), loc=2, borderaxespad=0.)\n",
    "days=[]\n",
    "for date in SICU_rates[2]:\n",
    "    days.append(\"%s\" % str(date))\n",
    "    days.append(str(date))\n",
    "    \n",
    "    \n",
    "dayrange=len(days)/2\n",
    "plt.xticks(range(dayrange), days[0::2], size='medium',rotation='vertical')\n",
    "\n",
    "plt.savefig(\"five_day_bins.png\", bbox_inches='tight')\n",
    "plt.close() # Close a figure window"
   ]
  },
  {
   "cell_type": "code",
   "execution_count": 96,
   "metadata": {
    "collapsed": false
   },
   "outputs": [],
   "source": [
    "SICU_rates = get_patients_sampled_within_x_days(sample_dict_full,2, 'SICU', full_exit_dict)\n",
    "MICU_rates = get_patients_sampled_within_x_days(sample_dict_full,2, 'MICU', full_exit_dict)\n",
    "NSIC_rates = get_patients_sampled_within_x_days(sample_dict_full,2, 'NSIC', full_exit_dict)\n",
    "SICU_ratio =  np.array(SICU_rates[1],dtype='float')/np.array(SICU_rates[0],dtype='float')\n",
    "MICU_ratio =  np.array(MICU_rates[1],dtype='float')/np.array(MICU_rates[0],dtype='float')\n",
    "NSIC_ratio =  np.array(NSIC_rates[1],dtype='float')/np.array(NSIC_rates[0],dtype='float')\n",
    "rats=[]\n",
    "rats.append(SICU_ratio)\n",
    "rats.append(MICU_ratio)\n",
    "rats.append(NSIC_ratio)\n",
    "\n",
    "\n",
    "labels = [\"SICU\", \"MICU\", \"NSIC\"]\n",
    "plt.ylabel('Sampled Patients / Total Patients')\n",
    "plt.title('Ratio of Sampled vs. Total Patients for 2 day bins')\n",
    "plt.axis([0,13,0,1])\n",
    "\n",
    "for i in range(len(rats)):\n",
    "    if len(rats[i]) > 0:\n",
    "        plt.plot(rats[i],label=labels[i],alpha=0.5)\n",
    "        plt.legend(bbox_to_anchor=(1.05, 1), loc=2, borderaxespad=0.)\n",
    "days=[]\n",
    "for date in SICU_rates[2]:\n",
    "    days.append(\"%s\" % str(date))\n",
    "    days.append(str(date))\n",
    "    \n",
    "    \n",
    "dayrange=len(days)/2\n",
    "plt.xticks(range(dayrange), days[0::2], size='medium',rotation='vertical')\n",
    "\n",
    "plt.savefig(\"two_day_bins.png\", bbox_inches='tight')\n",
    "plt.close() # Close a figure window"
   ]
  },
  {
   "cell_type": "code",
   "execution_count": 97,
   "metadata": {
    "collapsed": false
   },
   "outputs": [],
   "source": [
    "SICU_rates = get_patients_sampled_within_x_days(sample_dict_full,3, 'SICU', full_exit_dict)\n",
    "MICU_rates = get_patients_sampled_within_x_days(sample_dict_full,3, 'MICU', full_exit_dict)\n",
    "NSIC_rates = get_patients_sampled_within_x_days(sample_dict_full,3, 'NSIC', full_exit_dict)\n",
    "SICU_ratio =  np.array(SICU_rates[1],dtype='float')/np.array(SICU_rates[0],dtype='float')\n",
    "MICU_ratio =  np.array(MICU_rates[1],dtype='float')/np.array(MICU_rates[0],dtype='float')\n",
    "NSIC_ratio =  np.array(NSIC_rates[1],dtype='float')/np.array(NSIC_rates[0],dtype='float')\n",
    "rats=[]\n",
    "rats.append(SICU_ratio)\n",
    "rats.append(MICU_ratio)\n",
    "rats.append(NSIC_ratio)\n",
    "\n",
    "\n",
    "labels = [\"SICU\", \"MICU\", \"NSIC\"]\n",
    "plt.ylabel('Sampled Patients / Total Patients')\n",
    "plt.title('Ratio of Sampled vs. Total Patients for 3 day bins')\n",
    "plt.axis([0,13,0,1])\n",
    "\n",
    "for i in range(len(rats)):\n",
    "    if len(rats[i]) > 0:\n",
    "        plt.plot(rats[i],label=labels[i],alpha=0.5)\n",
    "        plt.legend(bbox_to_anchor=(1.05, 1), loc=2, borderaxespad=0.)\n",
    "days=[]\n",
    "for date in SICU_rates[2]:\n",
    "    days.append(\"%s\" % str(date))\n",
    "    days.append(str(date))\n",
    "    \n",
    "    \n",
    "dayrange=len(days)/2\n",
    "plt.xticks(range(dayrange), days[0::2], size='medium',rotation='vertical')\n",
    "\n",
    "plt.savefig(\"three_day_bins.png\", bbox_inches='tight')\n",
    "plt.close() # Close a figure window"
   ]
  },
  {
   "cell_type": "code",
   "execution_count": 104,
   "metadata": {
    "collapsed": false
   },
   "outputs": [
    {
     "data": {
      "image/png": "[encoded data removed]",
      "text/plain": [
       "<matplotlib.figure.Figure at 0x10a934e90>"
      ]
     },
     "metadata": {},
     "output_type": "display_data"
    }
   ],
   "source": [
    "SICU_rates = get_patients_sampled_within_x_days(sample_dict_full,7, 'SICU', full_exit_dict)\n",
    "MICU_rates = get_patients_sampled_within_x_days(sample_dict_full,7, 'MICU', full_exit_dict)\n",
    "NSIC_rates = get_patients_sampled_within_x_days(sample_dict_full,7, 'NSIC', full_exit_dict)\n",
    "SICU_ratio =  np.array(SICU_rates[1],dtype='float')/np.array(SICU_rates[0],dtype='float')\n",
    "MICU_ratio =  np.array(MICU_rates[1],dtype='float')/np.array(MICU_rates[0],dtype='float')\n",
    "NSIC_ratio =  np.array(NSIC_rates[1],dtype='float')/np.array(NSIC_rates[0],dtype='float')\n",
    "rats=[]\n",
    "rats.append(SICU_ratio)\n",
    "rats.append(MICU_ratio)\n",
    "rats.append(NSIC_ratio)\n",
    "\n",
    "labels = [\"SICU\", \"MICU\", \"NSIC\"]\n",
    "plt.ylabel('Sampled Patients / Total Patients')\n",
    "plt.title('Ratio of Sampled vs. Total Patients for 7 day bins')\n",
    "plt.axis([0,13,0,1])\n",
    "\n",
    "for i in range(len(rats)):\n",
    "    if len(rats[i]) > 0:\n",
    "        plt.plot(rats[i],label=labels[i],alpha=0.5)\n",
    "        plt.legend(bbox_to_anchor=(1.05, 1), loc=2, borderaxespad=0.)\n",
    "days=[]\n",
    "for date in SICU_rates[2]:\n",
    "    days.append(\"%s\" % str(date))\n",
    "    days.append(str(date))\n",
    "    \n",
    "    \n",
    "dayrange=len(days)/2\n",
    "plt.xticks(range(dayrange), days[0::2], size='medium',rotation='vertical')\n",
    "plt.show()\n",
    "plt.savefig(\"seven_day_bins.png\", bbox_inches='tight')\n",
    "plt.close() # Close a figure window"
   ]
  }
 ],
 "metadata": {
  "kernelspec": {
   "display_name": "Python 2",
   "language": "python",
   "name": "python2"
  },
  "language_info": {
   "codemirror_mode": {
    "name": "ipython",
    "version": 2
   },
   "file_extension": ".py",
   "mimetype": "text/x-python",
   "name": "python",
   "nbconvert_exporter": "python",
   "pygments_lexer": "ipython2",
   "version": "2.7.10"
  }
 },
 "nbformat": 4,
 "nbformat_minor": 0
}
